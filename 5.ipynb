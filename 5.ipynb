{
 "cells": [
  {
   "cell_type": "markdown",
   "id": "e6838ebb",
   "metadata": {},
   "source": [
    "Distance-based anomaly detection methods make several key assumptions:\n",
    "\n",
    "Normal instances are close to each other: Distance-based methods assume that normal instances in the dataset are densely clustered or close to each other in the feature space. This assumption implies that instances within the same cluster or neighborhood are similar to each other and represent typical behavior.\n",
    "\n",
    "Anomalies are far from normal instances: These methods assume that anomalies deviate significantly from normal instances and are situated in regions of the feature space that are distant from the clusters of normal data points. Anomalies are typically isolated or form sparse clusters, making them identifiable as outliers.\n",
    "\n",
    "Distance metric reflects meaningful similarity: Distance-based anomaly detection relies on a distance metric (e.g., Euclidean distance, Mahalanobis distance) to measure the similarity between instances in the feature space. It assumes that the chosen distance metric accurately reflects the underlying similarity or dissimilarity between instances.\n",
    "\n",
    "Uniform distribution of anomalies: Some distance-based methods assume that anomalies are uniformly distributed throughout the dataset. This assumption simplifies the detection process by treating anomalies as isolated instances that can be identified based on their distance from normal instances."
   ]
  }
 ],
 "metadata": {
  "kernelspec": {
   "display_name": "Python 3 (ipykernel)",
   "language": "python",
   "name": "python3"
  },
  "language_info": {
   "codemirror_mode": {
    "name": "ipython",
    "version": 3
   },
   "file_extension": ".py",
   "mimetype": "text/x-python",
   "name": "python",
   "nbconvert_exporter": "python",
   "pygments_lexer": "ipython3",
   "version": "3.10.9"
  }
 },
 "nbformat": 4,
 "nbformat_minor": 5
}
