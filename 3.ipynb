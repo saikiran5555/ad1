{
 "cells": [
  {
   "cell_type": "markdown",
   "id": "b1dba49f",
   "metadata": {},
   "source": [
    "Unsupervised and supervised anomaly detection differ primarily in the way they utilize labeled data during the training process:\n",
    "\n",
    "Unsupervised Anomaly Detection:\n",
    "\n",
    "Unsupervised anomaly detection techniques operate on unlabeled data, meaning they do not require prior knowledge of anomalies during the training phase.\n",
    "These methods aim to identify patterns in the data that deviate significantly from the norm without the need for labeled examples of anomalies.\n",
    "Common unsupervised anomaly detection methods include statistical approaches (e.g., clustering, density estimation), distance-based techniques (e.g., nearest neighbor methods), and dimensionality reduction (e.g., principal component analysis).\n",
    "Examples of applications include detecting unusual patterns in system logs, identifying outliers in financial transactions, and spotting anomalies in sensor data.\n",
    "Supervised Anomaly Detection:\n",
    "\n",
    "Supervised anomaly detection algorithms rely on labeled data during the training phase, where both normal and anomalous instances are provided.\n",
    "These methods learn a model based on the labeled examples and then use this model to identify anomalies in new, unlabeled data.\n",
    "Supervised anomaly detection typically involves techniques such as classification, where the algorithm learns to distinguish between normal and abnormal instances based on features extracted from the data.\n",
    "Examples of applications include email spam detection, credit card fraud detection, and medical diagnosis systems."
   ]
  }
 ],
 "metadata": {
  "kernelspec": {
   "display_name": "Python 3 (ipykernel)",
   "language": "python",
   "name": "python3"
  },
  "language_info": {
   "codemirror_mode": {
    "name": "ipython",
    "version": 3
   },
   "file_extension": ".py",
   "mimetype": "text/x-python",
   "name": "python",
   "nbconvert_exporter": "python",
   "pygments_lexer": "ipython3",
   "version": "3.10.9"
  }
 },
 "nbformat": 4,
 "nbformat_minor": 5
}
